{
 "metadata": {
  "language_info": {
   "codemirror_mode": {
    "name": "ipython",
    "version": 3
   },
   "file_extension": ".py",
   "mimetype": "text/x-python",
   "name": "python",
   "nbconvert_exporter": "python",
   "pygments_lexer": "ipython3",
   "version": "3.7.9-final"
  },
  "orig_nbformat": 2,
  "kernelspec": {
   "name": "python3",
   "display_name": "Python 3",
   "language": "python"
  }
 },
 "nbformat": 4,
 "nbformat_minor": 2,
 "cells": [
  {
   "cell_type": "code",
   "execution_count": 11,
   "metadata": {},
   "outputs": [],
   "source": [
    "import json, os\n",
    "import pandas as pd"
   ]
  },
  {
   "source": [
    "#  MPQA Lexicon Processing"
   ],
   "cell_type": "markdown",
   "metadata": {}
  },
  {
   "cell_type": "code",
   "execution_count": 2,
   "metadata": {},
   "outputs": [],
   "source": [
    "mpqa_filepath = './lexicons/mpqa/mpqa.tff'\n",
    "file = open(mpqa_filepath, 'r')\n",
    "mpqa_text = file.read()\n",
    "file.close()"
   ]
  },
  {
   "cell_type": "code",
   "execution_count": 9,
   "metadata": {},
   "outputs": [],
   "source": [
    "mpqa = {}\n",
    "for line in mpqa_text.split('\\n'):\n",
    "    if len(line) > 0:\n",
    "        dict = {}\n",
    "        line_split = line.split()\n",
    "        word = line_split[2].split('=')[1]\n",
    "        pos = line_split[3].split('=')[1]\n",
    "        polarity = line_split[-1].split('=')[1]\n",
    "        dict['pos'] = pos\n",
    "        dict['polarity'] = polarity\n",
    "        mpqa[word] = dict"
   ]
  },
  {
   "cell_type": "code",
   "execution_count": 10,
   "metadata": {},
   "outputs": [],
   "source": [
    "mpqa_output_file = './lexicons/mpqa/mpqa.json'\n",
    "with open(mpqa_output_file, 'w') as output:\n",
    "    json.dump(mpqa, output)"
   ]
  },
  {
   "source": [
    "# SocialSent Lexicon Processing"
   ],
   "cell_type": "markdown",
   "metadata": {}
  },
  {
   "cell_type": "code",
   "execution_count": 12,
   "metadata": {},
   "outputs": [],
   "source": [
    "electronic_cigarette_filepath = './lexicons/subreddits/electronic_cigarette.tsv'\n",
    "askscience_filepath = './lexicons/subreddits/askscience.tsv'\n",
    "science_filepath = './lexicons/subreddits/science.tsv'"
   ]
  },
  {
   "cell_type": "code",
   "execution_count": 19,
   "metadata": {},
   "outputs": [],
   "source": [
    "col_names = ['word', 'avg_sentscore', 'std_sentscore']\n",
    "electronic_cigarette_df = pd.read_csv(electronic_cigarette_filepath, sep='\\t', names=col_names)\n",
    "askscience_df = pd.read_csv(askscience_filepath, sep='\\t', names=col_names)\n",
    "science_df = pd.read_csv(science_filepath, sep='\\t', names=col_names)"
   ]
  },
  {
   "cell_type": "code",
   "execution_count": null,
   "metadata": {},
   "outputs": [],
   "source": []
  }
 ]
}