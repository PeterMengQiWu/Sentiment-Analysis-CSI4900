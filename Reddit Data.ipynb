{
 "metadata": {
  "orig_nbformat": 2,
  "kernelspec": {
   "name": "Python 3.7.9 64-bit",
   "display_name": "Python 3.7.9 64-bit",
   "metadata": {
    "interpreter": {
     "hash": "ec4a4b1fed8cdcc39317a02ea85456e6a3ae5ccf8fcdd15a3382d60cec052de8"
    }
   }
  }
 },
 "nbformat": 4,
 "nbformat_minor": 2,
 "cells": [
  {
   "cell_type": "code",
   "execution_count": 1,
   "metadata": {},
   "outputs": [],
   "source": [
    "import praw, json, os\n",
    "from datetime import datetime"
   ]
  },
  {
   "cell_type": "code",
   "execution_count": 2,
   "metadata": {
    "tags": []
   },
   "outputs": [
    {
     "output_type": "stream",
     "name": "stdout",
     "text": [
      "True\n"
     ]
    }
   ],
   "source": [
    "user_agent = 'python:sentiment_analysis:v0.0.1 (by u/Doomsday39)'\n",
    "reddit = praw.Reddit(\"bot\", user_agent=user_agent)\n",
    "print(reddit.read_only)"
   ]
  },
  {
   "cell_type": "code",
   "execution_count": 3,
   "metadata": {},
   "outputs": [],
   "source": [
    "smoking_words = ['smoke', 'smoker', 'smoking', 'cigar', 'cigarette', 'weed', 'marijuana', 'drug', 'juul', 'cannabis', 'tobacco', 'opiate', 'vape', 'vaping', 'addiction']\n",
    "all_data = []\n",
    "subreddit = reddit.subreddit(\"stopsmoking\")\n",
    "submissions = []"
   ]
  },
  {
   "cell_type": "code",
   "execution_count": 4,
   "metadata": {},
   "outputs": [],
   "source": [
    "for word in smoking_words:\n",
    "    for submission in subreddit.search(word):\n",
    "        if submission not in submissions:\n",
    "            submissions.append(submission)\n",
    "            post = {\n",
    "                'subreddit': subreddit.display_name\n",
    "            }\n",
    "            post['title'] = submission.title\n",
    "            post['url'] = submission.url\n",
    "            post['date_created'] = datetime.fromtimestamp(submission.created_utc).strftime(\"%m/%d/%Y, %H:%M:%S\")\n",
    "            post['body'] = submission.selftext\n",
    "        all_data.append(post)"
   ]
  },
  {
   "cell_type": "code",
   "execution_count": 5,
   "metadata": {},
   "outputs": [],
   "source": [
    "output_dir = './data/reddit/'\n",
    "if not os.path.exists(output_dir):\n",
    "    os.mkdir(output_dir)"
   ]
  },
  {
   "cell_type": "code",
   "execution_count": 6,
   "metadata": {},
   "outputs": [],
   "source": [
    "with open(output_dir+'reddit_data.json', 'w') as output:\n",
    "    json.dump(all_data, output)"
   ]
  },
  {
   "cell_type": "code",
   "execution_count": null,
   "metadata": {},
   "outputs": [],
   "source": []
  }
 ]
}