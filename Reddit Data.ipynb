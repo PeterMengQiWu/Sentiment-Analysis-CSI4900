{
 "metadata": {
  "orig_nbformat": 2,
  "kernelspec": {
   "name": "python_defaultSpec_1600576882764",
   "display_name": "Python 3.7.9 64-bit"
  }
 },
 "nbformat": 4,
 "nbformat_minor": 2,
 "cells": [
  {
   "cell_type": "code",
   "execution_count": 1,
   "metadata": {},
   "outputs": [],
   "source": [
    "import praw, json\n",
    "from datetime import datetime"
   ]
  },
  {
   "cell_type": "code",
   "execution_count": 2,
   "metadata": {
    "tags": []
   },
   "outputs": [
    {
     "output_type": "stream",
     "name": "stdout",
     "text": "True\n"
    }
   ],
   "source": [
    "user_agent = 'python:sentiment_analysis:v0.0.1 (by u/Doomsday39)'\n",
    "reddit = praw.Reddit(\"bot\", user_agent=user_agent)\n",
    "print(reddit.read_only)"
   ]
  },
  {
   "cell_type": "code",
   "execution_count": 3,
   "metadata": {},
   "outputs": [],
   "source": [
    "all_data = []"
   ]
  },
  {
   "cell_type": "code",
   "execution_count": 4,
   "metadata": {
    "tags": []
   },
   "outputs": [
    {
     "output_type": "stream",
     "name": "stdout",
     "text": "smoking\nBBQ\nyourmomshousepodcast\nSmokerHate\nsmokerslounge\nstopsmoking\ntrees\nAskReddit\nelectronic_cigarette\nPipeTobacco\nCigarettes\ncigars\nleaves\nShowerthoughts\nOnePiece\ntodayilearned\nweed\nAdviceAnimals\nfood\nMarijuana\npelletgrills\nunpopularopinion\nhookah\npics\nscience\nFoodPorn\nVaping\ngrilling\nDrugs\nsaplings\nOnePieceTC\nsousvide\nfunny\nVaping101\nreddit.com\nworldnews\nHealth\nvaporents\nWTF\npolitics\nDIY\nPetioles\nfffffffuuuuuuuuuuuu\nmildlyinteresting\neldertrees\nnews\njuul\nBeekeeping\nTraeger\nuktrees\nmeat\nMinecraft\nNoStupidQuestions\naustralia\nmemes\nKitchenConfidential\ncanada\nMuayThai\nLibertarian\nC25K\nFishing\nquittingsmoking\nindia\nHITsWorthTurkingFor\nCooking\nteenagers\nexplainlikeimfive\ncannabis\nrunning\nrant\nbritishproblems\nmildlyinfuriating\nfatlogic\njerky\nWelding\nvegan\nShittyLifeProTips\nBreakingDad\nSmokingmeat\nBossfight\nvideos\nPipes\ntechsupportgore\nCoronavirus\nAskDocs\ncirclejerk\nopiates\nLifeProTips\nNewYorkMets\nSubredditDrama\nDippingTobacco\nFitness\nEDC\nAmItheAsshole\nunitedkingdom\nBabyBumps\nCOVID19positive\nl4d2\nsee\nshittyaskscience\n"
    }
   ],
   "source": [
    "for subreddit in reddit.subreddits.search('smoker'):\n",
    "    print(subreddit.display_name)\n",
    "    post = {\n",
    "        'subreddit': subreddit.display_name\n",
    "    }\n",
    "    if subreddit.subreddit_type == 'public':\n",
    "        for submission in subreddit.search('smoker'):\n",
    "            post['title'] = submission.title\n",
    "            post['url'] = submission.url\n",
    "            post['date_created'] = datetime.fromtimestamp(submission.created_utc).strftime(\"%m/%d/%Y, %H:%M:%S\")\n",
    "            post['body'] = submission.selftext\n",
    "        all_data.append(post)"
   ]
  },
  {
   "cell_type": "code",
   "execution_count": 5,
   "metadata": {},
   "outputs": [],
   "source": [
    "with open('reddit_data.json', 'w') as output:\n",
    "    json.dump(all_data, output)"
   ]
  },
  {
   "cell_type": "code",
   "execution_count": null,
   "metadata": {},
   "outputs": [],
   "source": []
  }
 ]
}