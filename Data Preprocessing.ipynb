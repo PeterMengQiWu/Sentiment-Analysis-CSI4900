{
 "metadata": {
  "language_info": {
   "codemirror_mode": {
    "name": "ipython",
    "version": 3
   },
   "file_extension": ".py",
   "mimetype": "text/x-python",
   "name": "python",
   "nbconvert_exporter": "python",
   "pygments_lexer": "ipython3",
   "version": "3.7.9-final"
  },
  "orig_nbformat": 2,
  "kernelspec": {
   "name": "Python 3.7.9 64-bit",
   "display_name": "Python 3.7.9 64-bit",
   "metadata": {
    "interpreter": {
     "hash": "ec4a4b1fed8cdcc39317a02ea85456e6a3ae5ccf8fcdd15a3382d60cec052de8"
    }
   }
  }
 },
 "nbformat": 4,
 "nbformat_minor": 2,
 "cells": [
  {
   "cell_type": "code",
   "execution_count": 1,
   "metadata": {},
   "outputs": [],
   "source": [
    "import xml.etree.ElementTree as et\n",
    "from nltk.corpus import stopwords\n",
    "from nltk.tokenize import sent_tokenize, word_tokenize\n",
    "import re, os, string"
   ]
  },
  {
   "cell_type": "code",
   "execution_count": 2,
   "metadata": {
    "tags": []
   },
   "outputs": [],
   "source": [
    "i2b2_training_data_file = './data/i2b2/smokers_surrogate_train_all_version2.xml'\n",
    "tree = et.parse(i2b2_training_data_file)\n",
    "root = tree.getroot()\n",
    "data = []\n",
    "stopwords_list = stopwords.words('english') + list(string.punctuation)\n",
    "for record in root.findall('RECORD'):\n",
    "    text = record.find('TEXT').text.replace('\\n', '', 1).lower()\n",
    "    corpus = ''\n",
    "    for sent in sent_tokenize(text):\n",
    "        corpus += ' '.join([word for word in word_tokenize(sent) if word not in stopwords_list])\n",
    "        corpus += '\\n'\n",
    "\n",
    "    data.append({\n",
    "       'status': record.find('SMOKING').get('STATUS').lower(),\n",
    "       'text': corpus\n",
    "   })"
   ]
  },
  {
   "cell_type": "code",
   "execution_count": 3,
   "metadata": {},
   "outputs": [],
   "source": [
    "i2b2_output_dir = './data/i2b2/smokers/'\n",
    "if not os.path.exists(i2b2_output_dir):\n",
    "    os.mkdir(i2b2_output_dir)"
   ]
  },
  {
   "cell_type": "code",
   "execution_count": 4,
   "metadata": {},
   "outputs": [],
   "source": [
    "labels_file = open(i2b2_output_dir + 'labels.txt', 'w')\n",
    "for i in range(len(data)):\n",
    "    output_file = open(i2b2_output_dir + str(i+1) + '.txt', 'w')\n",
    "    output_file.write(data[i]['text'])\n",
    "    labels_file.write(data[i]['status']+'\\n')\n",
    "    output_file.close()\n",
    "labels_file.close()"
   ]
  },
  {
   "cell_type": "code",
   "execution_count": 5,
   "metadata": {},
   "outputs": [],
   "source": [
    "reuters_dir = './data/reuters/'\n",
    "reuters_output_dir = 'processed_data'\n",
    "if not os.path.exists(reuters_dir + reuters_output_dir):\n",
    "    os.mkdir(reuters_dir + reuters_output_dir)"
   ]
  },
  {
   "cell_type": "code",
   "execution_count": 6,
   "metadata": {},
   "outputs": [],
   "source": [
    "for dir in os.listdir(reuters_dir):\n",
    "    if dir != reuters_output_dir:\n",
    "        if not os.path.exists(reuters_dir + reuters_output_dir + '/' + dir):\n",
    "            os.mkdir(reuters_dir + reuters_output_dir + '/' + dir)\n",
    "        for filename in os.listdir(reuters_dir + dir):\n",
    "            file = open(reuters_dir + dir + '/' + filename, 'r')\n",
    "            corpus = file.read().lower().replace('\\n', ' ')\n",
    "            file.close()\n",
    "            processed_corpus = ''\n",
    "            for sent in sent_tokenize(corpus):\n",
    "                processed_corpus += ' '.join([word for word in word_tokenize(sent) if word not in stopwords_list])\n",
    "                processed_corpus += '\\n'\n",
    "            output_file = open(reuters_dir + reuters_output_dir + '/' + dir + '/' + filename + '.txt', 'w')\n",
    "            output_file.write(processed_corpus)\n",
    "            output_file.close()"
   ]
  }
 ]
}