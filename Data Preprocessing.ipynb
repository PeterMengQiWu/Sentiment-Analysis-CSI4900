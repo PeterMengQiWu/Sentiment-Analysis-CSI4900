{
 "metadata": {
  "language_info": {
   "codemirror_mode": {
    "name": "ipython",
    "version": 3
   },
   "file_extension": ".py",
   "mimetype": "text/x-python",
   "name": "python",
   "nbconvert_exporter": "python",
   "pygments_lexer": "ipython3",
   "version": "3.7.9-final"
  },
  "orig_nbformat": 2,
  "kernelspec": {
   "name": "Python 3.7.9 64-bit",
   "display_name": "Python 3.7.9 64-bit",
   "metadata": {
    "interpreter": {
     "hash": "ec4a4b1fed8cdcc39317a02ea85456e6a3ae5ccf8fcdd15a3382d60cec052de8"
    }
   }
  }
 },
 "nbformat": 4,
 "nbformat_minor": 2,
 "cells": [
  {
   "cell_type": "code",
   "execution_count": 1,
   "metadata": {},
   "outputs": [],
   "source": [
    "import xml.etree.ElementTree as et\n",
    "from nltk.corpus import stopwords\n",
    "from nltk.tokenize import sent_tokenize, word_tokenize\n",
    "from nltk.wsd import lesk\n",
    "import re, os, string, json"
   ]
  },
  {
   "cell_type": "code",
   "execution_count": 26,
   "metadata": {},
   "outputs": [],
   "source": [
    "stopwords_list = stopwords.words('english') + list(string.punctuation)"
   ]
  },
  {
   "source": [
    "# i2b2 Data Preprocessing"
   ],
   "cell_type": "markdown",
   "metadata": {}
  },
  {
   "cell_type": "code",
   "execution_count": 2,
   "metadata": {
    "tags": []
   },
   "outputs": [],
   "source": [
    "i2b2_training_data_file = './data/i2b2/smokers_surrogate_train_all_version2.xml'\n",
    "tree = et.parse(i2b2_training_data_file)\n",
    "root = tree.getroot()\n",
    "data = []\n",
    "stopwords_list = stopwords.words('english') + list(string.punctuation)\n",
    "for record in root.findall('RECORD'):\n",
    "    text = record.find('TEXT').text.replace('\\n', '', 1).lower()\n",
    "    corpus = ''\n",
    "    for sent in sent_tokenize(text):\n",
    "        corpus += ' '.join([word for word in word_tokenize(sent) if word not in stopwords_list])\n",
    "        corpus += '\\n'\n",
    "\n",
    "    data.append({\n",
    "       'status': record.find('SMOKING').get('STATUS').lower(),\n",
    "       'text': corpus\n",
    "   })"
   ]
  },
  {
   "cell_type": "code",
   "execution_count": 3,
   "metadata": {},
   "outputs": [],
   "source": [
    "i2b2_output_dir = './data/i2b2/smokers/'\n",
    "if not os.path.exists(i2b2_output_dir):\n",
    "    os.mkdir(i2b2_output_dir)"
   ]
  },
  {
   "cell_type": "code",
   "execution_count": 4,
   "metadata": {},
   "outputs": [],
   "source": [
    "labels_file = open(i2b2_output_dir + 'labels.txt', 'w')\n",
    "for i in range(len(data)):\n",
    "    output_file = open(i2b2_output_dir + str(i+1) + '.txt', 'w')\n",
    "    output_file.write(data[i]['text'])\n",
    "    labels_file.write(data[i]['status']+'\\n')\n",
    "    output_file.close()\n",
    "labels_file.close()"
   ]
  },
  {
   "source": [
    "# Reuters Data Preprocessing"
   ],
   "cell_type": "markdown",
   "metadata": {}
  },
  {
   "cell_type": "code",
   "execution_count": 5,
   "metadata": {},
   "outputs": [],
   "source": [
    "reuters_dir = './data/reuters/'\n",
    "reuters_output_dir = 'processed_data'\n",
    "if not os.path.exists(reuters_dir + reuters_output_dir):\n",
    "    os.mkdir(reuters_dir + reuters_output_dir)"
   ]
  },
  {
   "cell_type": "code",
   "execution_count": 6,
   "metadata": {},
   "outputs": [],
   "source": [
    "for dir in os.listdir(reuters_dir):\n",
    "    if dir != reuters_output_dir:\n",
    "        if not os.path.exists(reuters_dir + reuters_output_dir + '/' + dir):\n",
    "            os.mkdir(reuters_dir + reuters_output_dir + '/' + dir)\n",
    "        for filename in os.listdir(reuters_dir + dir):\n",
    "            file = open(reuters_dir + dir + '/' + filename, 'r')\n",
    "            corpus = file.read().lower().replace('\\n', ' ')\n",
    "            file.close()\n",
    "            processed_corpus = ''\n",
    "            for sent in sent_tokenize(corpus):\n",
    "                processed_corpus += ' '.join([word for word in word_tokenize(sent) if word not in stopwords_list])\n",
    "                processed_corpus += '\\n'\n",
    "            output_file = open(reuters_dir + reuters_output_dir + '/' + dir + '/' + filename + '.txt', 'w')\n",
    "            output_file.write(processed_corpus)\n",
    "            output_file.close()"
   ]
  },
  {
   "source": [
    "# Reddit Data Preprocessing"
   ],
   "cell_type": "markdown",
   "metadata": {}
  },
  {
   "cell_type": "code",
   "execution_count": 18,
   "metadata": {},
   "outputs": [],
   "source": [
    "reddit_data_file = './data/reddit/reddit_data.json'\n",
    "reddit_output_file = './data/reddit/processed_reddit_data.json'"
   ]
  },
  {
   "cell_type": "code",
   "execution_count": 19,
   "metadata": {},
   "outputs": [
    {
     "output_type": "stream",
     "name": "stdout",
     "text": [
      "<class 'list'>\n"
     ]
    }
   ],
   "source": [
    "with open(reddit_data_file) as file:\n",
    "    reddit_data = json.load(file)\n",
    "print(type(reddit_data))"
   ]
  },
  {
   "cell_type": "code",
   "execution_count": 31,
   "metadata": {},
   "outputs": [],
   "source": [
    "keywords_accepted_synset = {\n",
    "        'smoke': ['n.02', 'n.07', 'v.01'],\n",
    "        'smoker': ['n.01'],\n",
    "        'smoking': ['n.01', 'v.01']\n",
    "}"
   ]
  },
  {
   "cell_type": "code",
   "execution_count": 32,
   "metadata": {},
   "outputs": [],
   "source": [
    "processed_reddit_data = []\n",
    "for post in reddit_data:\n",
    "    title = post['title']\n",
    "    text = post['body']\n",
    "    if len(text) >= 6:\n",
    "        for keyword in keywords_accepted_synset.keys():\n",
    "            if keyword in text:\n",
    "                synset = lesk(text.split(), keyword)\n",
    "                name = synset.name()\n",
    "                if any([s in name for s in keywords_accepted_synset[keyword]]):\n",
    "                    processed_text = ' '.join([word for word in word_tokenize(text) if word not in stopwords_list])\n",
    "                    processed_reddit_data.append({\n",
    "                        'subreddit': post['subreddit'],\n",
    "                        'title': post['title'],\n",
    "                        'url': post['url'],\n",
    "                        'date_created': post['date_created'],\n",
    "                        'body': processed_text\n",
    "                    })\n",
    "                    break\n",
    "    else:\n",
    "        for keyword in keywords_accepted_synset.keys():\n",
    "            if keyword in title:\n",
    "                synset = lesk(title.split(), keyword)\n",
    "                name = synset.name()\n",
    "                if any([s in name for s in keywords_accepted_synset[keyword]]):\n",
    "                    processed_title = ' '.join([word for word in word_tokenize(title) if word not in stopwords_list])\n",
    "                    processed_reddit_data.append({\n",
    "                        'subreddit': post['subreddit'],\n",
    "                        'title': processed_title,\n",
    "                        'url': post['url'],\n",
    "                        'date_created': post['date_created'],\n",
    "                        'body': post['body']\n",
    "                    })\n",
    "                    break"
   ]
  },
  {
   "cell_type": "code",
   "execution_count": 33,
   "metadata": {},
   "outputs": [],
   "source": [
    "with open(reddit_output_file, 'w') as output:\n",
    "    json.dump(processed_reddit_data, output)"
   ]
  },
  {
   "cell_type": "code",
   "execution_count": null,
   "metadata": {},
   "outputs": [],
   "source": []
  }
 ]
}