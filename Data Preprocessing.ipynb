{
 "metadata": {
  "language_info": {
   "codemirror_mode": {
    "name": "ipython",
    "version": 3
   },
   "file_extension": ".py",
   "mimetype": "text/x-python",
   "name": "python",
   "nbconvert_exporter": "python",
   "pygments_lexer": "ipython3",
   "version": "3.7.9-final"
  },
  "orig_nbformat": 2,
  "kernelspec": {
   "name": "Python 3.7.9 64-bit",
   "display_name": "Python 3.7.9 64-bit",
   "metadata": {
    "interpreter": {
     "hash": "ec4a4b1fed8cdcc39317a02ea85456e6a3ae5ccf8fcdd15a3382d60cec052de8"
    }
   }
  }
 },
 "nbformat": 4,
 "nbformat_minor": 2,
 "cells": [
  {
   "cell_type": "code",
   "execution_count": 1,
   "metadata": {},
   "outputs": [],
   "source": [
    "import xml.etree.ElementTree as et\n",
    "from nltk.corpus import stopwords\n",
    "from nltk.tokenize import sent_tokenize, word_tokenize\n",
    "from nltk.stem import WordNetLemmatizer\n",
    "from nltk.wsd import lesk\n",
    "import re, os, string, json"
   ]
  },
  {
   "cell_type": "code",
   "execution_count": 2,
   "metadata": {},
   "outputs": [],
   "source": [
    "stopwords_list = stopwords.words('english') + list(string.punctuation)\n",
    "lemmatizer = WordNetLemmatizer()\n",
    "reg = re.compile(rf'(([{re.escape(string.punctuation)}]){{2,}})')"
   ]
  },
  {
   "source": [
    "# i2b2 Data Preprocessing"
   ],
   "cell_type": "markdown",
   "metadata": {}
  },
  {
   "cell_type": "code",
   "execution_count": 3,
   "metadata": {
    "tags": []
   },
   "outputs": [],
   "source": [
    "i2b2_training_data_file = './data/i2b2/smokers_surrogate_train_all_version2.xml'\n",
    "tree = et.parse(i2b2_training_data_file)\n",
    "root = tree.getroot()\n",
    "data = {}\n",
    "statuses = ['smoker', 'non-smoker']\n",
    "for record in root.findall('RECORD'):\n",
    "    patient_id = record.get('ID')\n",
    "    text = record.find('TEXT').text.split('\\n')\n",
    "    status = record.find('SMOKING').get('STATUS').lower()\n",
    "    corpus = ''\n",
    "    for sent in text:\n",
    "        row = ' '.join([lemmatizer.lemmatize(word.lower()) for word in word_tokenize(sent) if word.lower() not in stopwords_list and not reg.match(word)])\n",
    "        corpus += row\n",
    "        corpus += '\\n' if len(row) > 0 else ''\n",
    "    \n",
    "    if status not in data:\n",
    "        data[status] = []\n",
    "    data[status].append({\n",
    "        'id': patient_id,\n",
    "        'text': corpus\n",
    "    })"
   ]
  },
  {
   "cell_type": "code",
   "execution_count": 4,
   "metadata": {},
   "outputs": [],
   "source": [
    "i2b2_output_dir = './data/i2b2/smokers/'\n",
    "if not os.path.exists(i2b2_output_dir):\n",
    "    os.mkdir(i2b2_output_dir)\n",
    "    for status in data:\n",
    "        if not os.path.exists(i2b2_output_dir + status):\n",
    "            os.mkdir(i2b2_output_dir + status)"
   ]
  },
  {
   "cell_type": "code",
   "execution_count": 5,
   "metadata": {},
   "outputs": [],
   "source": [
    "for status in data:\n",
    "    for record in data[status]:\n",
    "        output_file = open(i2b2_output_dir + status + '/' + record['id'] + '.txt', 'w')\n",
    "        output_file.write(record['text'])\n",
    "        output_file.close()"
   ]
  },
  {
   "source": [
    "# Reuters Data Preprocessing"
   ],
   "cell_type": "markdown",
   "metadata": {}
  },
  {
   "cell_type": "code",
   "execution_count": 6,
   "metadata": {},
   "outputs": [],
   "source": [
    "reuters_dir = './data/reuters/'\n",
    "reuters_output_dir = 'processed_data'\n",
    "if not os.path.exists(reuters_dir + reuters_output_dir):\n",
    "    os.mkdir(reuters_dir + reuters_output_dir)"
   ]
  },
  {
   "cell_type": "code",
   "execution_count": 7,
   "metadata": {},
   "outputs": [],
   "source": [
    "for dir in os.listdir(reuters_dir):\n",
    "    if dir != reuters_output_dir:\n",
    "        if not os.path.exists(reuters_dir + reuters_output_dir + '/' + dir):\n",
    "            os.mkdir(reuters_dir + reuters_output_dir + '/' + dir)\n",
    "        for filename in os.listdir(reuters_dir + dir):\n",
    "            file = open(reuters_dir + dir + '/' + filename, 'r')\n",
    "            corpus = file.read().split('\\n\\n')\n",
    "            file.close()\n",
    "            prefix = corpus[0].split('\\n')\n",
    "            for field in prefix:\n",
    "                if 'Subject:' in field:\n",
    "                    prefix = field\n",
    "                    break\n",
    "            corpus[0] = prefix\n",
    "            corpus = ' '.join(corpus)\n",
    "            processed_corpus = ''\n",
    "            for sent in sent_tokenize(corpus):\n",
    "                processed_corpus += ' '.join([lemmatizer.lemmatize(word) for word in word_tokenize(sent) if word not in stopwords_list and not reg.match(word)])\n",
    "                processed_corpus += '\\n'\n",
    "            output_file = open(reuters_dir + reuters_output_dir + '/' + dir + '/' + filename + '.txt', 'w')\n",
    "            output_file.write(processed_corpus)\n",
    "            output_file.close()"
   ]
  },
  {
   "source": [
    "# Reddit Data Preprocessing"
   ],
   "cell_type": "markdown",
   "metadata": {}
  },
  {
   "cell_type": "code",
   "execution_count": 5,
   "metadata": {},
   "outputs": [],
   "source": [
    "reddit_data_file = './data/reddit/reddit_data.json'\n",
    "reddit_output_file = './data/reddit/processed_reddit_data.json'"
   ]
  },
  {
   "cell_type": "code",
   "execution_count": 6,
   "metadata": {},
   "outputs": [
    {
     "output_type": "stream",
     "name": "stdout",
     "text": [
      "<class 'list'>\n"
     ]
    }
   ],
   "source": [
    "with open(reddit_data_file) as file:\n",
    "    reddit_data = json.load(file)\n",
    "print(type(reddit_data))"
   ]
  },
  {
   "cell_type": "code",
   "execution_count": 7,
   "metadata": {},
   "outputs": [],
   "source": [
    "keywords_accepted_synset = {\n",
    "        'smoke': ['n.02', 'n.07', 'v.01'],\n",
    "        'smoker': ['n.01'],\n",
    "        'smoking': ['n.01', 'v.01']\n",
    "}"
   ]
  },
  {
   "cell_type": "code",
   "execution_count": 11,
   "metadata": {},
   "outputs": [],
   "source": [
    "processed_reddit_data = []\n",
    "for post in reddit_data:\n",
    "    title = post['title']\n",
    "    text = post['body']\n",
    "    url = post['url']\n",
    "    processed_text = ''\n",
    "    processed_title = ''\n",
    "    if len(text) >= 6:\n",
    "        for keyword in keywords_accepted_synset.keys():\n",
    "            if keyword in text:\n",
    "                synset = lesk(text.split(), keyword)\n",
    "                name = synset.name()\n",
    "                if any([s in name for s in keywords_accepted_synset[keyword]]):\n",
    "                    for sent in sent_tokenize(text):\n",
    "                        row = ' '.join([lemmatizer.lemmatize(word) for word in word_tokenize(text) if word not in stopwords_list and not reg.match(word)])\n",
    "                        processed_text += row\n",
    "                        processed_text += '\\n' if len(row) > 0 else ''\n",
    "                    processed_reddit_data.append({\n",
    "                        'subreddit': post['subreddit'],\n",
    "                        'title': post['title'],\n",
    "                        'url': post['url'],\n",
    "                        'date_created': post['date_created'],\n",
    "                        'body': processed_text\n",
    "                    })\n",
    "                    break\n",
    "    else:\n",
    "        for keyword in keywords_accepted_synset.keys():\n",
    "            if keyword in title:\n",
    "                synset = lesk(title.split(), keyword)\n",
    "                name = synset.name()\n",
    "                if any([s in name for s in keywords_accepted_synset[keyword]]):\n",
    "                    if url and not text:\n",
    "                        processed_text = 'url'\n",
    "                        processed_reddit_data.append({\n",
    "                            'subreddit': post['subreddit'],\n",
    "                            'title': post['title'],\n",
    "                            'url': post['url'],\n",
    "                            'date_created': post['date_created'],\n",
    "                            'body': processed_text\n",
    "                        })\n",
    "                    else:\n",
    "                        for sent in sent_tokenize(title):\n",
    "                            row = ' '.join([lemmatizer.lemmatize(word) for word in word_tokenize(title) if word not in stopwords_list and not reg.match(word)])\n",
    "                            processed_title += row\n",
    "                            processed_title += '\\n' if len(row) > 0 else ''\n",
    "                        processed_reddit_data.append({\n",
    "                            'subreddit': post['subreddit'],\n",
    "                            'title': processed_title,\n",
    "                            'url': post['url'],\n",
    "                            'date_created': post['date_created'],\n",
    "                            'body': post['body']\n",
    "                        })\n",
    "                    break"
   ]
  },
  {
   "cell_type": "code",
   "execution_count": 12,
   "metadata": {},
   "outputs": [],
   "source": [
    "with open(reddit_output_file, 'w') as output:\n",
    "    json.dump(processed_reddit_data, output)"
   ]
  },
  {
   "cell_type": "code",
   "execution_count": null,
   "metadata": {},
   "outputs": [],
   "source": []
  }
 ]
}